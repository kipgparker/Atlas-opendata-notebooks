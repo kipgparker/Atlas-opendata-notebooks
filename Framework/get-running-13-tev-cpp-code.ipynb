{
 "cells": [
  {
   "cell_type": "markdown",
   "metadata": {},
   "source": [
    "<CENTER><img src=\"../Assets/ATLASOD.gif\" style=\"width:50%\"></CENTER>"
   ]
  },
  {
   "cell_type": "markdown",
   "metadata": {},
   "source": [
    "<CENTER><h1>Get running the analysis of Hyy channel using the 13 TeV dataset in C++</h1></CENTER>\n",
    "\n",
    "\n",
    "**Introduction**\n",
    "Let's take a current ATLAS Open Data sample and create histograms:"
   ]
  },
  {
   "cell_type": "markdown",
   "metadata": {},
   "source": [
    "Import necessary modules that provide a way of using operating system dependent functionality. "
   ]
  },
  {
   "cell_type": "code",
   "execution_count": 1,
   "metadata": {},
   "outputs": [],
   "source": [
    "#include <stdio.h>\n",
    "#include <stdlib.h>\n",
    "#include <cstdio>\n",
    "#include <iostream>\n",
    "#include <time.h> "
   ]
  },
  {
   "cell_type": "markdown",
   "metadata": {},
   "source": [
    "- Print current system time"
   ]
  },
  {
   "cell_type": "code",
   "execution_count": 2,
   "metadata": {},
   "outputs": [
    {
     "name": "stdout",
     "output_type": "stream",
     "text": [
      "Mon Aug 12 20:06:16 CEST 2019\r\n"
     ]
    }
   ],
   "source": [
    "system(\"date\"); \n",
    "clock_t startTime = clock(); "
   ]
  },
  {
   "cell_type": "markdown",
   "metadata": {},
   "source": [
    "## 1. Get Hyy analysis code of 13Tev dataset  \n",
    "Create a new folder \"cpp-13tev\" in which you place your data and code"
   ]
  },
  {
   "cell_type": "code",
   "execution_count": 3,
   "metadata": {
    "scrolled": true
   },
   "outputs": [],
   "source": [
    "system(\"mkdir cpp-13tev\");"
   ]
  },
  {
   "cell_type": "markdown",
   "metadata": {},
   "source": [
    "List the files in your directory"
   ]
  },
  {
   "cell_type": "code",
   "execution_count": 4,
   "metadata": {},
   "outputs": [
    {
     "name": "stdout",
     "output_type": "stream",
     "text": [
      "total 100K\r\n",
      "-rw-r--r-- 1 summerstudent users  125 Jul 22 11:07 README.md\r\n",
      "-rw------- 1 summerstudent users 9.6K Jul 22 11:26 get-running-8-tev-code-cpp.ipynb\r\n",
      "-rw-r--r-- 1 summerstudent users  18K Jul 31 20:36 get-running-8-tev-code-python.ipynb\r\n",
      "drwxr-xr-x 2 summerstudent users 4.0K Jul 31 22:37 images\r\n",
      "-rw-r--r-- 1 summerstudent users  14K Aug 12 18:24 get-running-13-tev-python-code.ipynb\r\n",
      "-rw-r--r-- 1 summerstudent users  39K Aug 12 20:05 get-running-13-tev-cpp-code.ipynb\r\n",
      "drwxr-xr-x 2 summerstudent users 4.0K Aug 12 20:06 cpp-13tev\r\n"
     ]
    }
   ],
   "source": [
    "system(\"ls -lhrt\");"
   ]
  },
  {
   "cell_type": "markdown",
   "metadata": {},
   "source": [
    "Print your current path"
   ]
  },
  {
   "cell_type": "code",
   "execution_count": 5,
   "metadata": {},
   "outputs": [
    {
     "name": "stdout",
     "output_type": "stream",
     "text": [
      "/home/student/demos-framework-software-notebooks\r\n"
     ]
    }
   ],
   "source": [
    "system(\"pwd\");"
   ]
  },
  {
   "cell_type": "markdown",
   "metadata": {},
   "source": [
    "Change current directory to \"cpp-8tev\" "
   ]
  },
  {
   "cell_type": "code",
   "execution_count": 6,
   "metadata": {},
   "outputs": [],
   "source": [
    "chdir(\"cpp-13tev\");"
   ]
  },
  {
   "cell_type": "markdown",
   "metadata": {},
   "source": [
    "Print your current path"
   ]
  },
  {
   "cell_type": "code",
   "execution_count": 7,
   "metadata": {},
   "outputs": [
    {
     "name": "stdout",
     "output_type": "stream",
     "text": [
      "/home/student/demos-framework-software-notebooks/cpp-13tev\r\n"
     ]
    }
   ],
   "source": [
    "system(\"pwd\");"
   ]
  },
  {
   "cell_type": "markdown",
   "metadata": {},
   "source": [
    "Print current system time"
   ]
  },
  {
   "cell_type": "code",
   "execution_count": 8,
   "metadata": {},
   "outputs": [
    {
     "name": "stdout",
     "output_type": "stream",
     "text": [
      "Mon Aug 12 20:06:16 CEST 2019\r\n"
     ]
    }
   ],
   "source": [
    "system(\"date\");"
   ]
  },
  {
   "cell_type": "markdown",
   "metadata": {
    "collapsed": true
   },
   "source": [
    "Clone the analysis code from github"
   ]
  },
  {
   "cell_type": "code",
   "execution_count": 9,
   "metadata": {},
   "outputs": [
    {
     "name": "stderr",
     "output_type": "stream",
     "text": [
      "Cloning into 'atlas-outreach-cpp-framework-13tev'...\r\n",
      "remote: Enumerating objects: 336, done.\u001b[K\r\n",
      "remote: Counting objects: 100% (336/336), done.\u001b[K\r\n",
      "remote: Compressing objects: 100% (164/164), done.\u001b[K\r\n",
      "remote: Total 336 (delta 204), reused 278 (delta 167)\u001b[K\r\n",
      "Receiving objects: 100% (336/336), 403.80 KiB | 0 bytes/s, done.\r\n",
      "Resolving deltas: 100% (204/204), done.\r\n",
      "Checking connectivity... done.\r\n"
     ]
    }
   ],
   "source": [
    "system(\"git clone https://gitlab.cern.ch/yixin/atlas-outreach-cpp-framework-13tev.git\");"
   ]
  },
  {
   "cell_type": "markdown",
   "metadata": {},
   "source": [
    "Get into the folder which contains the analysis code"
   ]
  },
  {
   "cell_type": "code",
   "execution_count": 10,
   "metadata": {},
   "outputs": [],
   "source": [
    "chdir(\"atlas-outreach-cpp-framework-13tev/Beta/\");"
   ]
  },
  {
   "cell_type": "markdown",
   "metadata": {},
   "source": [
    "Print your current path"
   ]
  },
  {
   "cell_type": "code",
   "execution_count": 11,
   "metadata": {},
   "outputs": [
    {
     "name": "stdout",
     "output_type": "stream",
     "text": [
      "/home/student/demos-framework-software-notebooks/cpp-13tev/atlas-outreach-cpp-framework-13tev/Beta\r\n"
     ]
    }
   ],
   "source": [
    "system(\"pwd\");"
   ]
  },
  {
   "cell_type": "markdown",
   "metadata": {},
   "source": [
    "Print your current time"
   ]
  },
  {
   "cell_type": "code",
   "execution_count": 12,
   "metadata": {
    "scrolled": true
   },
   "outputs": [
    {
     "name": "stdout",
     "output_type": "stream",
     "text": [
      "Mon Aug 12 20:06:16 CEST 2019\r\n"
     ]
    }
   ],
   "source": [
    "system(\"date\");"
   ]
  },
  {
   "cell_type": "markdown",
   "metadata": {},
   "source": [
    "## 2. Download the 13Tev dataset for Hyy analysis"
   ]
  },
  {
   "cell_type": "code",
   "execution_count": 13,
   "metadata": {},
   "outputs": [],
   "source": [
    "//system(\"wget -c http://opendata.atlas.cern/release/samples/2019/GamGam/ATLAS-open-data-13TeV-2019-GamGam.zip\");"
   ]
  },
  {
   "cell_type": "markdown",
   "metadata": {},
   "source": [
    "Print current system time"
   ]
  },
  {
   "cell_type": "code",
   "execution_count": 14,
   "metadata": {},
   "outputs": [],
   "source": [
    "//system(\"date\");"
   ]
  },
  {
   "cell_type": "markdown",
   "metadata": {},
   "source": [
    "Unzip the dataset you download"
   ]
  },
  {
   "cell_type": "code",
   "execution_count": 15,
   "metadata": {},
   "outputs": [],
   "source": [
    "//system('unzip ATLAS-open-data-13TeV-2019-GamGam.zip');"
   ]
  },
  {
   "cell_type": "markdown",
   "metadata": {},
   "source": [
    "Print current system time"
   ]
  },
  {
   "cell_type": "code",
   "execution_count": 16,
   "metadata": {},
   "outputs": [],
   "source": [
    "//system(\"date\");"
   ]
  },
  {
   "cell_type": "markdown",
   "metadata": {},
   "source": [
    "Remove the zip file"
   ]
  },
  {
   "cell_type": "code",
   "execution_count": 17,
   "metadata": {},
   "outputs": [],
   "source": [
    "//system('rm -rf ATLAS-open-data-13TeV-2019-GamGam.zip');"
   ]
  },
  {
   "cell_type": "markdown",
   "metadata": {},
   "source": [
    "Print current system time"
   ]
  },
  {
   "cell_type": "code",
   "execution_count": 18,
   "metadata": {},
   "outputs": [],
   "source": [
    "//system(\"date\");"
   ]
  },
  {
   "cell_type": "markdown",
   "metadata": {},
   "source": [
    "Change your current path"
   ]
  },
  {
   "cell_type": "code",
   "execution_count": 19,
   "metadata": {
    "collapsed": true
   },
   "outputs": [],
   "source": [
    "//chdir(\"../atlas-outreach-cpp-framework-13tev\");"
   ]
  },
  {
   "cell_type": "markdown",
   "metadata": {},
   "source": [
    "## 3. Begin analysis"
   ]
  },
  {
   "cell_type": "code",
   "execution_count": 20,
   "metadata": {},
   "outputs": [
    {
     "name": "stdout",
     "output_type": "stream",
     "text": [
      "/home/student/demos-framework-software-notebooks/cpp-13tev/atlas-outreach-cpp-framework-13tev/Beta\r\n"
     ]
    }
   ],
   "source": [
    "system(\"pwd\");"
   ]
  },
  {
   "cell_type": "markdown",
   "metadata": {},
   "source": [
    "Creat the output folder"
   ]
  },
  {
   "cell_type": "code",
   "execution_count": 21,
   "metadata": {},
   "outputs": [
    {
     "name": "stdout",
     "output_type": "stream",
     "text": [
      "/home/student/demos-framework-software-notebooks/cpp-13tev/atlas-outreach-cpp-framework-13tev/Beta\r\n"
     ]
    }
   ],
   "source": [
    "system(\"mkdir -p Analysis/HyyAnalysis/Output_HyyAnalysis\");\n",
    "system(\"rm -rf Analysis/HyyAnalysis/Output_HyyAnalysis/*\");\n",
    "system(\"pwd\");"
   ]
  },
  {
   "cell_type": "markdown",
   "metadata": {},
   "source": [
    "Change to the analysis code path"
   ]
  },
  {
   "cell_type": "code",
   "execution_count": 22,
   "metadata": {
    "collapsed": true
   },
   "outputs": [],
   "source": [
    "chdir(\"Analysis/HyyAnalysis/\");"
   ]
  },
  {
   "cell_type": "code",
   "execution_count": 23,
   "metadata": {},
   "outputs": [
    {
     "name": "stdout",
     "output_type": "stream",
     "text": [
      "/home/student/demos-framework-software-notebooks/cpp-13tev/atlas-outreach-cpp-framework-13tev/Beta/Analysis/HyyAnalysis\r\n"
     ]
    }
   ],
   "source": [
    "system(\"pwd\");"
   ]
  },
  {
   "cell_type": "markdown",
   "metadata": {},
   "source": [
    "List the content of this folder"
   ]
  },
  {
   "cell_type": "code",
   "execution_count": 24,
   "metadata": {},
   "outputs": [
    {
     "name": "stdout",
     "output_type": "stream",
     "text": [
      "total 44K\r\n",
      "-rwxr-xr-x 1 summerstudent users  347 Aug 12 20:06 run.sh\r\n",
      "-rwxr-xr-x 1 summerstudent users  271 Aug 12 20:06 run0.sh\r\n",
      "-rw-r--r-- 1 summerstudent users 1.4K Aug 12 20:06 main_HyyAnalysis.C\r\n",
      "-rw-r--r-- 1 summerstudent users 1.5K Aug 12 20:06 HyyAnalysisHistograms.h\r\n",
      "-rw-r--r-- 1 summerstudent users  16K Aug 12 20:06 HyyAnalysis.h\r\n",
      "-rw-r--r-- 1 summerstudent users 5.9K Aug 12 20:06 HyyAnalysis.C\r\n",
      "lrwxrwxrwx 1 summerstudent users   11 Aug 12 20:06 clean.sh -> ../clean.sh\r\n",
      "drwxr-xr-x 2 summerstudent users 4.0K Aug 12 20:06 Output_HyyAnalysis\r\n"
     ]
    }
   ],
   "source": [
    "system(\"ls -lhrt\");"
   ]
  },
  {
   "cell_type": "markdown",
   "metadata": {},
   "source": [
    "Now it's time to RUN!"
   ]
  },
  {
   "cell_type": "code",
   "execution_count": 25,
   "metadata": {},
   "outputs": [
    {
     "name": "stdout",
     "output_type": "stream",
     "text": [
      "starting ROOT\r\n",
      "Starting analysis with process option: data \r\n",
      "analyzed an total  6.84646e+06 events\r\n",
      "after trigger      1 or 6.84646e+06 events\r\n",
      "after 2 good tight 0.125884 or 6.84646e+06 events\r\n",
      "after 2 isolated   0.370642 or 861857 events\r\n",
      "after pT cuts      0.885997 or 319440 events\r\n",
      "after window  cut  0.236073 or 283023 events\r\n",
      "wrote histograms to file Output_HyyAnalysis/data.root\r\n",
      "Starting analysis with process option: ggH125_gamgam \r\n",
      "analyzed an total  1.05471e+06 events\r\n",
      "after trigger      1 or 1.05471e+06 events\r\n",
      "after 2 good tight 0.793151 or 1.05471e+06 events\r\n",
      "after 2 isolated   0.882695 or 836547 events\r\n",
      "after pT cuts      0.9257 or 738416 events\r\n",
      "after window  cut  0.999769 or 683552 events\r\n",
      "wrote histograms to file Output_HyyAnalysis/ggH125_gamgam.root\r\n",
      "end of ROOT execution\r\n"
     ]
    },
    {
     "name": "stderr",
     "output_type": "stream",
     "text": [
      "Info in <TUnixSystem::ACLiC>: creating shared library /home/student/demos-framework-software-notebooks/cpp-13tev/atlas-outreach-cpp-framework-13tev/Beta/Analysis/HyyAnalysis/./HyyAnalysis_C.so\r\n",
      "Info in <ACLiC>: unmodified script has already been compiled and loaded\r\n"
     ]
    }
   ],
   "source": [
    "system(\"./run0.sh 0\");"
   ]
  },
  {
   "cell_type": "code",
   "execution_count": 26,
   "metadata": {},
   "outputs": [
    {
     "name": "stdout",
     "output_type": "stream",
     "text": [
      "Mon Aug 12 20:10:29 CEST 2019\r\n"
     ]
    }
   ],
   "source": [
    "system(\"date\");"
   ]
  },
  {
   "cell_type": "markdown",
   "metadata": {},
   "source": [
    "## 4. Plot the result"
   ]
  },
  {
   "cell_type": "code",
   "execution_count": 27,
   "metadata": {
    "collapsed": true
   },
   "outputs": [],
   "source": [
    "chdir(\"../../Plotting_Hyy/\");"
   ]
  },
  {
   "cell_type": "code",
   "execution_count": 28,
   "metadata": {},
   "outputs": [
    {
     "name": "stdout",
     "output_type": "stream",
     "text": [
      "/home/student/demos-framework-software-notebooks/cpp-13tev/atlas-outreach-cpp-framework-13tev/Beta/Plotting_Hyy\r\n"
     ]
    }
   ],
   "source": [
    "system(\"pwd\");"
   ]
  },
  {
   "cell_type": "code",
   "execution_count": 29,
   "metadata": {},
   "outputs": [
    {
     "name": "stderr",
     "output_type": "stream",
     "text": [
      "Info in <TUnixSystem::ACLiC>: creating shared library /home/student/demos-framework-software-notebooks/cpp-13tev/atlas-outreach-cpp-framework-13tev/Beta/Plotting_Hyy/./Plotting_cxx.so\r\n",
      "Info in <TCanvas::Print>: png file histograms/hist_mYY_incl.png has been created\r\n",
      "Warning in <TFile::Append>: Replacing existing TH1: copy_fit1 (Potential memory leak).\r\n",
      "Info in <TCanvas::Print>: png file histograms/hist_mYY_win.png has been created\r\n"
     ]
    },
    {
     "name": "stdout",
     "output_type": "stream",
     "text": [
      "Start plotting\r\n",
      "\r\n",
      " ---------------------DISCLAIMER--------------------- \r\n",
      "\r\n",
      "This Software is intended for educational use only!\r\n",
      "Under no circumstances does it qualify to reproduce actual ATLAS analysis results or produce publishable results! \r\n",
      "\r\n",
      " ---------------------------------------------------- \r\n",
      "\r\n",
      "data 1 1 1\r\n",
      "ggH125_gamgam 0.102 55922617.6297 1\r\n",
      "\r\n",
      " Reading files from: ../Analysis/HyyAnalysis/Output_HyyAnalysis \r\n",
      " \r\n",
      "=====processing HyyAnalysis=====\r\n",
      "Reading file: ../Analysis/HyyAnalysis/Output_HyyAnalysis/data.root\r\n",
      "reading histogram: hist_mYY_win\r\n",
      "reading histogram: hist_mYY_incl\r\n",
      "Reading file: ../Analysis/HyyAnalysis/Output_HyyAnalysis/ggH125_gamgam.root\r\n",
      "reading histogram: hist_mYY_win\r\n",
      "reading histogram: hist_mYY_incl\r\n",
      " SF is: 0\r\n",
      "Scaling histogram: hist_mYY_incl\r\n",
      "Scaling histogram: hist_mYY_win\r\n",
      "Plotting histogram: hist_mYY_incl\r\n",
      "0\r\n",
      " FCN=12.9855 FROM HESSE     STATUS=NOT POSDEF     23 CALLS         158 TOTAL\r\n",
      "                     EDM=3.1212e-12    STRATEGY= 1      ERR MATRIX NOT POS-DEF\r\n",
      "  EXT PARAMETER                APPROXIMATE        STEP         FIRST   \r\n",
      "  NO.   NAME      VALUE            ERROR          SIZE      DERIVATIVE \r\n",
      "   1  p0           9.62489e+04   8.08654e+01   2.29475e-02   8.23653e-09\r\n",
      "   2  p1          -1.80060e+03   8.73237e-01   4.29296e-04  -1.52820e-06\r\n",
      "   3  p2           1.16338e+01   6.01641e-03   2.77371e-06  -1.64026e-04\r\n",
      "   4  p3          -2.56286e-02   2.99507e-05   6.11034e-09   2.10257e-02\r\n",
      "   5  p4           9.17000e+01     fixed    \r\n",
      "   6  p5           1.25000e+02     fixed    \r\n",
      "   7  p6           2.40000e+00     fixed    \r\n",
      "Chi2/NDF: 0.618358\r\n",
      "Plotting histogram: hist_mYY_win\r\n",
      "0\r\n",
      " FCN=55.6085 FROM HESSE     STATUS=NOT POSDEF     23 CALLS         160 TOTAL\r\n",
      "                     EDM=5.44695e-12    STRATEGY= 1      ERR MATRIX NOT POS-DEF\r\n",
      "  EXT PARAMETER                APPROXIMATE        STEP         FIRST   \r\n",
      "  NO.   NAME      VALUE            ERROR          SIZE      DERIVATIVE \r\n",
      "   1  p0           4.78196e+04   3.67180e+01   1.14011e-02   2.74437e-08\r\n",
      "   2  p1          -9.10477e+02   3.96466e-01   2.17075e-04  -3.80852e-06\r\n",
      "   3  p2           5.97288e+00   2.73084e-03   1.42405e-06  -3.63575e-04\r\n",
      "   4  p3          -1.33302e-02   1.35902e-05   3.17816e-09   8.00203e-02\r\n",
      "   5  p4           9.17000e+01     fixed    \r\n",
      "   6  p5           1.25000e+02     fixed    \r\n",
      "   7  p6           2.40000e+00     fixed    \r\n",
      "Chi2/NDF: 1.09036\r\n"
     ]
    }
   ],
   "source": [
    "system(\"./plotting.sh\");"
   ]
  },
  {
   "cell_type": "code",
   "execution_count": 30,
   "metadata": {},
   "outputs": [
    {
     "name": "stdout",
     "output_type": "stream",
     "text": [
      "total 80K\r\n",
      "-rw-r--r-- 1 summerstudent users 25K Aug 12 20:06 hist_mYY_pt.png\r\n",
      "-rw-r--r-- 1 summerstudent users 23K Aug 12 20:10 hist_mYY_incl.png\r\n",
      "-rw-r--r-- 1 summerstudent users 26K Aug 12 20:10 hist_mYY_win.png\r\n"
     ]
    }
   ],
   "source": [
    "system(\"ls -lhrt histograms/\");"
   ]
  },
  {
   "cell_type": "markdown",
   "metadata": {},
   "source": [
    "<CENTER><img src=\"cpp-13tev/atlas-outreach-cpp-framework-13tev/Beta/Plotting_Hyy/histograms/hist_mYY_incl.png\"></CENTER>"
   ]
  },
  {
   "cell_type": "code",
   "execution_count": 31,
   "metadata": {},
   "outputs": [
    {
     "name": "stdout",
     "output_type": "stream",
     "text": [
      "Mon Aug 12 20:10:40 CEST 2019\r\n",
      "Finished in 9 min 49 s \r\n"
     ]
    }
   ],
   "source": [
    "system(\"date\");\n",
    "clock_t endTime = clock(); \n",
    "double time_taken = (double) (endTime-startTime) / CLOCKS_PER_SEC * 1000.0; // in seconds \n",
    "cout << \"Finished in \" << (int)(time_taken / 60) << \" min \" << (int)time_taken % (int)60 << \" s \" << endl;   "
   ]
  },
  {
   "cell_type": "code",
   "execution_count": null,
   "metadata": {
    "collapsed": true
   },
   "outputs": [],
   "source": []
  }
 ],
 "metadata": {
  "kernelspec": {
   "display_name": "ROOT C++",
   "language": "c++",
   "name": "root"
  },
  "language_info": {
   "codemirror_mode": "text/x-c++src",
   "file_extension": ".C",
   "mimetype": " text/x-c++src",
   "name": "c++"
  }
 },
 "nbformat": 4,
 "nbformat_minor": 1
}
